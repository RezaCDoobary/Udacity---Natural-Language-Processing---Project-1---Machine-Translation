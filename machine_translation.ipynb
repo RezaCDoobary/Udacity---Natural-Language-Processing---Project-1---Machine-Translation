{
 "cells": [
  {
   "cell_type": "markdown",
   "metadata": {
    "collapsed": true
   },
   "source": [
    "# Artificial Intelligence Nanodegree\n",
    "## Machine Translation Project\n",
    "In this notebook, sections that end with **'(IMPLEMENTATION)'** in the header indicate that the following blocks of code will require additional functionality which you must provide. Please be sure to read the instructions carefully!\n",
    "\n",
    "## Introduction\n",
    "In this notebook, you will build a deep neural network that functions as part of an end-to-end machine translation pipeline. Your completed pipeline will accept English text as input and return the French translation.\n",
    "\n",
    "- **Preprocess** - You'll convert text to sequence of integers.\n",
    "- **Models** Create models which accepts a sequence of integers as input and returns a probability distribution over possible translations. After learning about the basic types of neural networks that are often used for machine translation, you will engage in your own investigations, to design your own model!\n",
    "- **Prediction** Run the model on English text."
   ]
  },
  {
   "cell_type": "code",
   "execution_count": 1,
   "metadata": {},
   "outputs": [],
   "source": [
    "%load_ext autoreload\n",
    "%aimport helper, tests\n",
    "%autoreload 1"
   ]
  },
  {
   "cell_type": "code",
   "execution_count": 2,
   "metadata": {},
   "outputs": [
    {
     "name": "stderr",
     "output_type": "stream",
     "text": [
      "Using TensorFlow backend.\n"
     ]
    }
   ],
   "source": [
    "import collections\n",
    "\n",
    "import helper\n",
    "import numpy as np\n",
    "import project_tests as tests\n",
    "\n",
    "from keras.preprocessing.text import Tokenizer\n",
    "from keras.preprocessing.sequence import pad_sequences\n",
    "from keras.models import Model\n",
    "from keras.layers import GRU, Input, Dense, TimeDistributed, Activation, RepeatVector, Bidirectional\n",
    "from keras.layers.embeddings import Embedding\n",
    "from keras.optimizers import Adam\n",
    "from keras.losses import sparse_categorical_crossentropy"
   ]
  },
  {
   "cell_type": "markdown",
   "metadata": {},
   "source": [
    "### Verify access to the GPU\n",
    "The following test applies only if you expect to be using a GPU, e.g., while running in a Udacity Workspace or using an AWS instance with GPU support. Run the next cell, and verify that the device_type is \"GPU\".\n",
    "- If the device is not GPU & you are running from a Udacity Workspace, then save your workspace with the icon at the top, then click \"enable\" at the bottom of the workspace.\n",
    "- If the device is not GPU & you are running from an AWS instance, then refer to the cloud computing instructions in the classroom to verify your setup steps."
   ]
  },
  {
   "cell_type": "code",
   "execution_count": 3,
   "metadata": {},
   "outputs": [
    {
     "name": "stdout",
     "output_type": "stream",
     "text": [
      "[name: \"/cpu:0\"\n",
      "device_type: \"CPU\"\n",
      "memory_limit: 268435456\n",
      "locality {\n",
      "}\n",
      "incarnation: 7386254509594445126\n",
      ", name: \"/gpu:0\"\n",
      "device_type: \"GPU\"\n",
      "memory_limit: 357433344\n",
      "locality {\n",
      "  bus_id: 1\n",
      "}\n",
      "incarnation: 6869144210615543092\n",
      "physical_device_desc: \"device: 0, name: Tesla K80, pci bus id: 0000:00:04.0\"\n",
      "]\n"
     ]
    }
   ],
   "source": [
    "from tensorflow.python.client import device_lib\n",
    "print(device_lib.list_local_devices())"
   ]
  },
  {
   "cell_type": "markdown",
   "metadata": {},
   "source": [
    "## Dataset\n",
    "We begin by investigating the dataset that will be used to train and evaluate your pipeline.  The most common datasets used for machine translation are from [WMT](http://www.statmt.org/).  However, that will take a long time to train a neural network on.  We'll be using a dataset we created for this project that contains a small vocabulary.  You'll be able to train your model in a reasonable time with this dataset.\n",
    "### Load Data\n",
    "The data is located in `data/small_vocab_en` and `data/small_vocab_fr`. The `small_vocab_en` file contains English sentences with their French translations in the `small_vocab_fr` file. Load the English and French data from these files from running the cell below."
   ]
  },
  {
   "cell_type": "code",
   "execution_count": 4,
   "metadata": {},
   "outputs": [
    {
     "name": "stdout",
     "output_type": "stream",
     "text": [
      "Dataset Loaded\n"
     ]
    }
   ],
   "source": [
    "# Load English data\n",
    "english_sentences = helper.load_data('data/small_vocab_en')\n",
    "# Load French data\n",
    "french_sentences = helper.load_data('data/small_vocab_fr')\n",
    "\n",
    "print('Dataset Loaded')"
   ]
  },
  {
   "cell_type": "markdown",
   "metadata": {},
   "source": [
    "### Files\n",
    "Each line in `small_vocab_en` contains an English sentence with the respective translation in each line of `small_vocab_fr`.  View the first two lines from each file."
   ]
  },
  {
   "cell_type": "code",
   "execution_count": 5,
   "metadata": {},
   "outputs": [
    {
     "name": "stdout",
     "output_type": "stream",
     "text": [
      "small_vocab_en Line 1:  new jersey is sometimes quiet during autumn , and it is snowy in april .\n",
      "small_vocab_fr Line 1:  new jersey est parfois calme pendant l' automne , et il est neigeux en avril .\n",
      "small_vocab_en Line 2:  the united states is usually chilly during july , and it is usually freezing in november .\n",
      "small_vocab_fr Line 2:  les états-unis est généralement froid en juillet , et il gèle habituellement en novembre .\n"
     ]
    }
   ],
   "source": [
    "for sample_i in range(2):\n",
    "    print('small_vocab_en Line {}:  {}'.format(sample_i + 1, english_sentences[sample_i]))\n",
    "    print('small_vocab_fr Line {}:  {}'.format(sample_i + 1, french_sentences[sample_i]))"
   ]
  },
  {
   "cell_type": "markdown",
   "metadata": {},
   "source": [
    "From looking at the sentences, you can see they have been preprocessed already.  The puncuations have been delimited using spaces. All the text have been converted to lowercase.  This should save you some time, but the text requires more preprocessing.\n",
    "### Vocabulary\n",
    "The complexity of the problem is determined by the complexity of the vocabulary.  A more complex vocabulary is a more complex problem.  Let's look at the complexity of the dataset we'll be working with."
   ]
  },
  {
   "cell_type": "code",
   "execution_count": 6,
   "metadata": {},
   "outputs": [
    {
     "name": "stdout",
     "output_type": "stream",
     "text": [
      "1823250 English words.\n",
      "227 unique English words.\n",
      "10 Most common words in the English dataset:\n",
      "\"is\" \",\" \".\" \"in\" \"it\" \"during\" \"the\" \"but\" \"and\" \"sometimes\"\n",
      "\n",
      "1961295 French words.\n",
      "355 unique French words.\n",
      "10 Most common words in the French dataset:\n",
      "\"est\" \".\" \",\" \"en\" \"il\" \"les\" \"mais\" \"et\" \"la\" \"parfois\"\n"
     ]
    }
   ],
   "source": [
    "english_words_counter = collections.Counter([word for sentence in english_sentences for word in sentence.split()])\n",
    "french_words_counter = collections.Counter([word for sentence in french_sentences for word in sentence.split()])\n",
    "\n",
    "print('{} English words.'.format(len([word for sentence in english_sentences for word in sentence.split()])))\n",
    "print('{} unique English words.'.format(len(english_words_counter)))\n",
    "print('10 Most common words in the English dataset:')\n",
    "print('\"' + '\" \"'.join(list(zip(*english_words_counter.most_common(10)))[0]) + '\"')\n",
    "print()\n",
    "print('{} French words.'.format(len([word for sentence in french_sentences for word in sentence.split()])))\n",
    "print('{} unique French words.'.format(len(french_words_counter)))\n",
    "print('10 Most common words in the French dataset:')\n",
    "print('\"' + '\" \"'.join(list(zip(*french_words_counter.most_common(10)))[0]) + '\"')"
   ]
  },
  {
   "cell_type": "markdown",
   "metadata": {},
   "source": [
    "For comparison, _Alice's Adventures in Wonderland_ contains 2,766 unique words of a total of 15,500 words.\n",
    "## Preprocess\n",
    "For this project, you won't use text data as input to your model. Instead, you'll convert the text into sequences of integers using the following preprocess methods:\n",
    "1. Tokenize the words into ids\n",
    "2. Add padding to make all the sequences the same length.\n",
    "\n",
    "Time to start preprocessing the data...\n",
    "### Tokenize (IMPLEMENTATION)\n",
    "For a neural network to predict on text data, it first has to be turned into data it can understand. Text data like \"dog\" is a sequence of ASCII character encodings.  Since a neural network is a series of multiplication and addition operations, the input data needs to be number(s).\n",
    "\n",
    "We can turn each character into a number or each word into a number.  These are called character and word ids, respectively.  Character ids are used for character level models that generate text predictions for each character.  A word level model uses word ids that generate text predictions for each word.  Word level models tend to learn better, since they are lower in complexity, so we'll use those.\n",
    "\n",
    "Turn each sentence into a sequence of words ids using Keras's [`Tokenizer`](https://keras.io/preprocessing/text/#tokenizer) function. Use this function to tokenize `english_sentences` and `french_sentences` in the cell below.\n",
    "\n",
    "Running the cell will run `tokenize` on sample data and show output for debugging."
   ]
  },
  {
   "cell_type": "code",
   "execution_count": 7,
   "metadata": {},
   "outputs": [
    {
     "name": "stdout",
     "output_type": "stream",
     "text": [
      "{'the': 1, 'quick': 2, 'a': 3, 'brown': 4, 'fox': 5, 'jumps': 6, 'over': 7, 'lazy': 8, 'dog': 9, 'by': 10, 'jove': 11, 'my': 12, 'study': 13, 'of': 14, 'lexicography': 15, 'won': 16, 'prize': 17, 'this': 18, 'is': 19, 'short': 20, 'sentence': 21}\n",
      "\n",
      "Sequence 1 in x\n",
      "  Input:  The quick brown fox jumps over the lazy dog .\n",
      "  Output: [1, 2, 4, 5, 6, 7, 1, 8, 9]\n",
      "Sequence 2 in x\n",
      "  Input:  By Jove , my quick study of lexicography won a prize .\n",
      "  Output: [10, 11, 12, 2, 13, 14, 15, 16, 3, 17]\n",
      "Sequence 3 in x\n",
      "  Input:  This is a short sentence .\n",
      "  Output: [18, 19, 3, 20, 21]\n"
     ]
    }
   ],
   "source": [
    "def tokenize(x):\n",
    "    \"\"\"\n",
    "    Tokenize x\n",
    "    :param x: List of sentences/strings to be tokenized\n",
    "    :return: Tuple of (tokenized x data, tokenizer used to tokenize x)\n",
    "    \"\"\"\n",
    "    x_tk = Tokenizer()\n",
    "    x_tk.fit_on_texts(x)\n",
    "    return x_tk.texts_to_sequences(x), x_tk\n",
    "tests.test_tokenize(tokenize)\n",
    "\n",
    "# Tokenize Example output\n",
    "text_sentences = [\n",
    "    'The quick brown fox jumps over the lazy dog .',\n",
    "    'By Jove , my quick study of lexicography won a prize .',\n",
    "    'This is a short sentence .']\n",
    "text_tokenized, text_tokenizer = tokenize(text_sentences)\n",
    "print(text_tokenizer.word_index)\n",
    "print()\n",
    "for sample_i, (sent, token_sent) in enumerate(zip(text_sentences, text_tokenized)):\n",
    "    print('Sequence {} in x'.format(sample_i + 1))\n",
    "    print('  Input:  {}'.format(sent))\n",
    "    print('  Output: {}'.format(token_sent))"
   ]
  },
  {
   "cell_type": "markdown",
   "metadata": {},
   "source": [
    "### Padding (IMPLEMENTATION)\n",
    "When batching the sequence of word ids together, each sequence needs to be the same length.  Since sentences are dynamic in length, we can add padding to the end of the sequences to make them the same length.\n",
    "\n",
    "Make sure all the English sequences have the same length and all the French sequences have the same length by adding padding to the **end** of each sequence using Keras's [`pad_sequences`](https://keras.io/preprocessing/sequence/#pad_sequences) function."
   ]
  },
  {
   "cell_type": "code",
   "execution_count": 8,
   "metadata": {},
   "outputs": [
    {
     "name": "stdout",
     "output_type": "stream",
     "text": [
      "Sequence 1 in x\n",
      "  Input:  [1 2 4 5 6 7 1 8 9]\n",
      "  Output: [1 2 4 5 6 7 1 8 9 0]\n",
      "Sequence 2 in x\n",
      "  Input:  [10 11 12  2 13 14 15 16  3 17]\n",
      "  Output: [10 11 12  2 13 14 15 16  3 17]\n",
      "Sequence 3 in x\n",
      "  Input:  [18 19  3 20 21]\n",
      "  Output: [18 19  3 20 21  0  0  0  0  0]\n"
     ]
    }
   ],
   "source": [
    "def pad(x, length=None):\n",
    "    \"\"\"\n",
    "    Pad x\n",
    "    :param x: List of sequences.\n",
    "    :param length: Length to pad the sequence to.  If None, use length of longest sequence in x.\n",
    "    :return: Padded numpy array of sequences\n",
    "    \"\"\"\n",
    "    # TODO: Implement\n",
    "    if length is None:\n",
    "        length = max([len(sentence) for sentence in x])\n",
    "    return pad_sequences(x, maxlen=length, padding='post')\n",
    "\n",
    "tests.test_pad(pad)\n",
    "\n",
    "# Pad Tokenized output\n",
    "test_pad = pad(text_tokenized)\n",
    "for sample_i, (token_sent, pad_sent) in enumerate(zip(text_tokenized, test_pad)):\n",
    "    print('Sequence {} in x'.format(sample_i + 1))\n",
    "    print('  Input:  {}'.format(np.array(token_sent)))\n",
    "    print('  Output: {}'.format(pad_sent))"
   ]
  },
  {
   "cell_type": "markdown",
   "metadata": {},
   "source": [
    "### Preprocess Pipeline\n",
    "Your focus for this project is to build neural network architecture, so we won't ask you to create a preprocess pipeline.  Instead, we've provided you with the implementation of the `preprocess` function."
   ]
  },
  {
   "cell_type": "code",
   "execution_count": 9,
   "metadata": {},
   "outputs": [
    {
     "name": "stdout",
     "output_type": "stream",
     "text": [
      "Data Preprocessed\n",
      "Max English sentence length: 15\n",
      "Max French sentence length: 21\n",
      "English vocabulary size: 199\n",
      "French vocabulary size: 344\n"
     ]
    }
   ],
   "source": [
    "def preprocess(x, y):\n",
    "    \"\"\"\n",
    "    Preprocess x and y\n",
    "    :param x: Feature List of sentences\n",
    "    :param y: Label List of sentences\n",
    "    :return: Tuple of (Preprocessed x, Preprocessed y, x tokenizer, y tokenizer)\n",
    "    \"\"\"\n",
    "    preprocess_x, x_tk = tokenize(x)\n",
    "    preprocess_y, y_tk = tokenize(y)\n",
    "\n",
    "    preprocess_x = pad(preprocess_x)\n",
    "    preprocess_y = pad(preprocess_y)\n",
    "\n",
    "    # Keras's sparse_categorical_crossentropy function requires the labels to be in 3 dimensions\n",
    "    preprocess_y = preprocess_y.reshape(*preprocess_y.shape, 1)\n",
    "\n",
    "    return preprocess_x, preprocess_y, x_tk, y_tk\n",
    "\n",
    "preproc_english_sentences, preproc_french_sentences, english_tokenizer, french_tokenizer =\\\n",
    "    preprocess(english_sentences, french_sentences)\n",
    "    \n",
    "max_english_sequence_length = preproc_english_sentences.shape[1]\n",
    "max_french_sequence_length = preproc_french_sentences.shape[1]\n",
    "english_vocab_size = len(english_tokenizer.word_index)\n",
    "french_vocab_size = len(french_tokenizer.word_index)\n",
    "\n",
    "print('Data Preprocessed')\n",
    "print(\"Max English sentence length:\", max_english_sequence_length)\n",
    "print(\"Max French sentence length:\", max_french_sequence_length)\n",
    "print(\"English vocabulary size:\", english_vocab_size)\n",
    "print(\"French vocabulary size:\", french_vocab_size)"
   ]
  },
  {
   "cell_type": "markdown",
   "metadata": {},
   "source": [
    "## Models\n",
    "In this section, you will experiment with various neural network architectures.\n",
    "You will begin by training four relatively simple architectures.\n",
    "- Model 1 is a simple RNN\n",
    "- Model 2 is a RNN with Embedding\n",
    "- Model 3 is a Bidirectional RNN\n",
    "- Model 4 is an optional Encoder-Decoder RNN\n",
    "\n",
    "After experimenting with the four simple architectures, you will construct a deeper architecture that is designed to outperform all four models.\n",
    "### Ids Back to Text\n",
    "The neural network will be translating the input to words ids, which isn't the final form we want.  We want the French translation.  The function `logits_to_text` will bridge the gab between the logits from the neural network to the French translation.  You'll be using this function to better understand the output of the neural network."
   ]
  },
  {
   "cell_type": "code",
   "execution_count": 11,
   "metadata": {},
   "outputs": [],
   "source": [
    "from keras.models import Sequential \n",
    "#In the models below - the sequential structure will be used"
   ]
  },
  {
   "cell_type": "code",
   "execution_count": 12,
   "metadata": {},
   "outputs": [
    {
     "name": "stdout",
     "output_type": "stream",
     "text": [
      "`logits_to_text` function loaded.\n"
     ]
    }
   ],
   "source": [
    "def logits_to_text(logits, tokenizer):\n",
    "    \"\"\"\n",
    "    Turn logits from a neural network into text using the tokenizer\n",
    "    :param logits: Logits from a neural network\n",
    "    :param tokenizer: Keras Tokenizer fit on the labels\n",
    "    :return: String that represents the text of the logits\n",
    "    \"\"\"\n",
    "    index_to_words = {id: word for word, id in tokenizer.word_index.items()}\n",
    "    index_to_words[0] = '<PAD>'\n",
    "\n",
    "    return ' '.join([index_to_words[prediction] for prediction in np.argmax(logits, 1)])\n",
    "\n",
    "print('`logits_to_text` function loaded.')"
   ]
  },
  {
   "cell_type": "markdown",
   "metadata": {},
   "source": [
    "### Model 1: RNN (IMPLEMENTATION)\n",
    "![RNN](images/rnn.png)\n",
    "A basic RNN model is a good baseline for sequence data.  In this model, you'll build a RNN that translates English to French."
   ]
  },
  {
   "cell_type": "code",
   "execution_count": 13,
   "metadata": {},
   "outputs": [
    {
     "name": "stdout",
     "output_type": "stream",
     "text": [
      "Train on 110288 samples, validate on 27573 samples\n",
      "Epoch 1/10\n",
      "110288/110288 [==============================] - 12s 108us/step - loss: 2.7049 - acc: 0.4663 - val_loss: 2.0225 - val_acc: 0.5376\n",
      "Epoch 2/10\n",
      "110288/110288 [==============================] - 10s 87us/step - loss: 1.7588 - acc: 0.5705 - val_loss: 1.5926 - val_acc: 0.5940\n",
      "Epoch 3/10\n",
      "110288/110288 [==============================] - 10s 88us/step - loss: 1.5088 - acc: 0.6026 - val_loss: 1.4360 - val_acc: 0.6107\n",
      "Epoch 4/10\n",
      "110288/110288 [==============================] - 10s 88us/step - loss: 1.3848 - acc: 0.6201 - val_loss: 1.3346 - val_acc: 0.6301\n",
      "Epoch 5/10\n",
      "110288/110288 [==============================] - 10s 88us/step - loss: 1.2943 - acc: 0.6367 - val_loss: 1.2527 - val_acc: 0.6417\n",
      "Epoch 6/10\n",
      "110288/110288 [==============================] - 10s 88us/step - loss: 1.2208 - acc: 0.6490 - val_loss: 1.1892 - val_acc: 0.6539\n",
      "Epoch 7/10\n",
      "110288/110288 [==============================] - 10s 88us/step - loss: 1.1652 - acc: 0.6584 - val_loss: 1.1388 - val_acc: 0.6637\n",
      "Epoch 8/10\n",
      "110288/110288 [==============================] - 10s 88us/step - loss: 1.1203 - acc: 0.6645 - val_loss: 1.0996 - val_acc: 0.6650\n",
      "Epoch 9/10\n",
      "110288/110288 [==============================] - 10s 88us/step - loss: 1.0851 - acc: 0.6695 - val_loss: 1.0702 - val_acc: 0.6711\n",
      "Epoch 10/10\n",
      "110288/110288 [==============================] - 10s 87us/step - loss: 1.0550 - acc: 0.6732 - val_loss: 1.0430 - val_acc: 0.6782\n",
      "new jersey est parfois calme en l' et il est est en en <PAD> <PAD> <PAD> <PAD> <PAD> <PAD> <PAD> <PAD>\n"
     ]
    }
   ],
   "source": [
    "def simple_model(input_shape, output_sequence_length, english_vocab_size, french_vocab_size):\n",
    "    \"\"\"\n",
    "    Build and train a basic RNN on x and y\n",
    "    :param input_shape: Tuple of input shape\n",
    "    :param output_sequence_length: Length of output sequence\n",
    "    :param english_vocab_size: Number of unique English words in the dataset\n",
    "    :param french_vocab_size: Number of unique French words in the dataset\n",
    "    :return: Keras model built, but not trained\n",
    "    \"\"\"\n",
    "    # step 1. Define numerical properties:\n",
    "    learning_rate = 1e-3\n",
    "    \n",
    "    # step 2. Create layer by layer model:\n",
    "    model = Sequential()\n",
    "    model.add(GRU(units=english_vocab_size, dropout=0.0, return_sequences=True,input_shape=input_shape[1:]))\n",
    "    model.add(Dense(french_vocab_size, activation='softmax'))\n",
    "    \n",
    "    # step 3. Compile\n",
    "    model.compile(loss=sparse_categorical_crossentropy,\n",
    "                  optimizer=Adam(learning_rate),\n",
    "                  metrics=['accuracy'])\n",
    "    \n",
    "    return model\n",
    "\n",
    "tests.test_simple_model(simple_model)\n",
    "\n",
    "# Reshaping the input to work with a basic RNN\n",
    "tmp_x = pad(preproc_english_sentences, max_french_sequence_length)\n",
    "tmp_x = tmp_x.reshape((-1, preproc_french_sentences.shape[-2], 1))\n",
    "\n",
    "# Train the neural network\n",
    "simple_rnn_model = simple_model(\n",
    "    tmp_x.shape,\n",
    "    max_french_sequence_length,\n",
    "    english_vocab_size+1,\n",
    "    french_vocab_size+1)\n",
    "simple_rnn_model.fit(tmp_x, preproc_french_sentences, batch_size=1024, epochs=10, validation_split=0.2)\n",
    "\n",
    "# Print prediction(s)\n",
    "print(logits_to_text(simple_rnn_model.predict(tmp_x[:1])[0], french_tokenizer))"
   ]
  },
  {
   "cell_type": "markdown",
   "metadata": {},
   "source": [
    "### Model 2: Embedding (IMPLEMENTATION)\n",
    "![RNN](images/embedding.png)\n",
    "You've turned the words into ids, but there's a better representation of a word.  This is called word embeddings.  An embedding is a vector representation of the word that is close to similar words in n-dimensional space, where the n represents the size of the embedding vectors.\n",
    "\n",
    "In this model, you'll create a RNN model using embedding."
   ]
  },
  {
   "cell_type": "code",
   "execution_count": 14,
   "metadata": {},
   "outputs": [
    {
     "name": "stdout",
     "output_type": "stream",
     "text": [
      "Train on 110288 samples, validate on 27573 samples\n",
      "Epoch 1/10\n",
      "110288/110288 [==============================] - 13s 117us/step - loss: 3.1219 - acc: 0.4326 - val_loss: 2.3144 - val_acc: 0.5429\n",
      "Epoch 2/10\n",
      "110288/110288 [==============================] - 13s 113us/step - loss: 1.6441 - acc: 0.6250 - val_loss: 1.2016 - val_acc: 0.7119\n",
      "Epoch 3/10\n",
      "110288/110288 [==============================] - 12s 113us/step - loss: 0.9840 - acc: 0.7575 - val_loss: 0.8131 - val_acc: 0.7876\n",
      "Epoch 4/10\n",
      "110288/110288 [==============================] - 12s 113us/step - loss: 0.6973 - acc: 0.8115 - val_loss: 0.6051 - val_acc: 0.8293\n",
      "Epoch 5/10\n",
      "110288/110288 [==============================] - 12s 113us/step - loss: 0.5473 - acc: 0.8418 - val_loss: 0.4932 - val_acc: 0.8548\n",
      "Epoch 6/10\n",
      "110288/110288 [==============================] - 12s 113us/step - loss: 0.4566 - acc: 0.8645 - val_loss: 0.4237 - val_acc: 0.8723\n",
      "Epoch 7/10\n",
      "110288/110288 [==============================] - 13s 113us/step - loss: 0.3926 - acc: 0.8814 - val_loss: 0.3705 - val_acc: 0.8868\n",
      "Epoch 8/10\n",
      "110288/110288 [==============================] - 12s 113us/step - loss: 0.3494 - acc: 0.8926 - val_loss: 0.3386 - val_acc: 0.8953\n",
      "Epoch 9/10\n",
      "110288/110288 [==============================] - 12s 113us/step - loss: 0.3177 - acc: 0.9017 - val_loss: 0.3031 - val_acc: 0.9065\n",
      "Epoch 10/10\n",
      "110288/110288 [==============================] - 12s 113us/step - loss: 0.2943 - acc: 0.9082 - val_loss: 0.3004 - val_acc: 0.9066\n",
      "new jersey est parfois calme en l' de et il est neigeux en avril <PAD> <PAD> <PAD> <PAD> <PAD> <PAD> <PAD>\n"
     ]
    }
   ],
   "source": [
    "def embed_model(input_shape, output_sequence_length, english_vocab_size, french_vocab_size):\n",
    "    \"\"\"\n",
    "    Build and train a RNN model using word embedding on x and y\n",
    "    :param input_shape: Tuple of input shape\n",
    "    :param output_sequence_length: Length of output sequence\n",
    "    :param english_vocab_size: Number of unique English words in the dataset\n",
    "    :param french_vocab_size: Number of unique French words in the dataset\n",
    "    :return: Keras model built, but not trained\n",
    "    \"\"\"\n",
    "    # step 1. Define numerical properties:\n",
    "    learning_rate = 1e-3\n",
    "    embedding_dim = 256\n",
    "    gru_output = english_vocab_size\n",
    "    \n",
    "    # step 2. Create layer by layer model:\n",
    "    model = Sequential()\n",
    "    model.add(Embedding(input_dim = english_vocab_size, output_dim = embedding_dim, input_length=input_shape[1:][0]))\n",
    "    model.add(GRU(units = gru_output, dropout=0.0, return_sequences=True))\n",
    "    model.add(Dense(french_vocab_size, activation='softmax'))\n",
    "    \n",
    "    # step 3. Compile\n",
    "    model.compile(loss=sparse_categorical_crossentropy,\n",
    "                  optimizer=Adam(learning_rate),\n",
    "                  metrics=['accuracy'])\n",
    "    \n",
    "    return model\n",
    "tests.test_embed_model(embed_model)\n",
    "\n",
    "\n",
    "# Reshaping the input to work with an embedded RNN\n",
    "tmp_x = pad(preproc_english_sentences, max_french_sequence_length)\n",
    "#tmp_x = tmp_x.reshape((-1, preproc_french_sentences.shape[-2], 1))\n",
    "\n",
    "# Train the neural network\n",
    "embedded_model = embed_model(\n",
    "    tmp_x.shape,\n",
    "    max_french_sequence_length,\n",
    "    english_vocab_size+1,\n",
    "    french_vocab_size+1)\n",
    "embedded_model.fit(tmp_x, preproc_french_sentences, batch_size=1024, epochs=10, validation_split=0.2)\n",
    "\n",
    "# Print prediction(s)\n",
    "print(logits_to_text(embedded_model.predict(tmp_x[:1])[0], french_tokenizer))"
   ]
  },
  {
   "cell_type": "markdown",
   "metadata": {},
   "source": [
    "### Model 3: Bidirectional RNNs (IMPLEMENTATION)\n",
    "![RNN](images/bidirectional.png)\n",
    "One restriction of a RNN is that it can't see the future input, only the past.  This is where bidirectional recurrent neural networks come in.  They are able to see the future data."
   ]
  },
  {
   "cell_type": "code",
   "execution_count": 15,
   "metadata": {},
   "outputs": [
    {
     "name": "stdout",
     "output_type": "stream",
     "text": [
      "Train on 110288 samples, validate on 27573 samples\n",
      "Epoch 1/10\n",
      "110288/110288 [==============================] - 16s 150us/step - loss: 2.2984 - acc: 0.5336 - val_loss: 1.5521 - val_acc: 0.6056\n",
      "Epoch 2/10\n",
      "110288/110288 [==============================] - 16s 144us/step - loss: 1.4149 - acc: 0.6192 - val_loss: 1.3135 - val_acc: 0.6352\n",
      "Epoch 3/10\n",
      "110288/110288 [==============================] - 16s 144us/step - loss: 1.2532 - acc: 0.6438 - val_loss: 1.2001 - val_acc: 0.6525\n",
      "Epoch 4/10\n",
      "110288/110288 [==============================] - 16s 144us/step - loss: 1.1587 - acc: 0.6623 - val_loss: 1.1190 - val_acc: 0.6685\n",
      "Epoch 5/10\n",
      "110288/110288 [==============================] - 16s 145us/step - loss: 1.0839 - acc: 0.6778 - val_loss: 1.0517 - val_acc: 0.6865\n",
      "Epoch 6/10\n",
      "110288/110288 [==============================] - 16s 144us/step - loss: 1.0240 - acc: 0.6888 - val_loss: 0.9977 - val_acc: 0.6944\n",
      "Epoch 7/10\n",
      "110288/110288 [==============================] - 16s 145us/step - loss: 0.9755 - acc: 0.6965 - val_loss: 0.9583 - val_acc: 0.6938\n",
      "Epoch 8/10\n",
      "110288/110288 [==============================] - 16s 144us/step - loss: 0.9357 - acc: 0.7021 - val_loss: 0.9213 - val_acc: 0.7051\n",
      "Epoch 9/10\n",
      "110288/110288 [==============================] - 16s 145us/step - loss: 0.9010 - acc: 0.7074 - val_loss: 0.8850 - val_acc: 0.7124\n",
      "Epoch 10/10\n",
      "110288/110288 [==============================] - 16s 145us/step - loss: 0.8704 - acc: 0.7134 - val_loss: 0.8567 - val_acc: 0.7187\n",
      "new jersey est parfois calme en mois de il et il en en en <PAD> <PAD> <PAD> <PAD> <PAD> <PAD> <PAD>\n"
     ]
    }
   ],
   "source": [
    "def bd_model(input_shape, output_sequence_length, english_vocab_size, french_vocab_size):\n",
    "    \"\"\"\n",
    "    Build and train a bidirectional RNN model on x and y\n",
    "    :param input_shape: Tuple of input shape\n",
    "    :param output_sequence_length: Length of output sequence\n",
    "    :param english_vocab_size: Number of unique English words in the dataset\n",
    "    :param french_vocab_size: Number of unique French words in the dataset\n",
    "    :return: Keras model built, but not trained\n",
    "    \"\"\"\n",
    "    # step 1. Define numerical properties:\n",
    "    learning_rate = 1e-3\n",
    "    embedding_dim = 256\n",
    "    gru_output = english_vocab_size\n",
    "    \n",
    "    # step 2. Create layer by layer model:\n",
    "    model = Sequential()\n",
    "    model.add(Bidirectional(GRU(units = gru_output, dropout=0.0, return_sequences=True),input_shape=input_shape[1:]))\n",
    "    model.add(Dense(french_vocab_size, activation='softmax'))\n",
    "    \n",
    "    # step 3. Compile:\n",
    "    model.compile(loss=sparse_categorical_crossentropy,\n",
    "                  optimizer=Adam(learning_rate),\n",
    "                  metrics=['accuracy'])\n",
    "\n",
    "    return model\n",
    "tests.test_bd_model(bd_model)\n",
    "\n",
    "# Reshaping the input to work with an embedded RNN\n",
    "tmp_x = pad(preproc_english_sentences, max_french_sequence_length)\n",
    "tmp_x = tmp_x.reshape((-1, preproc_french_sentences.shape[-2], 1))\n",
    "\n",
    "# Train the neural network\n",
    "bidirectional_model = bd_model(\n",
    "    tmp_x.shape,\n",
    "    max_french_sequence_length,\n",
    "    english_vocab_size+1,\n",
    "    french_vocab_size+1)\n",
    "bidirectional_model.fit(tmp_x, preproc_french_sentences, batch_size=1024, epochs=10, validation_split=0.2)\n",
    "\n",
    "# Print prediction(s)\n",
    "print(logits_to_text(bidirectional_model.predict(tmp_x[:1])[0], french_tokenizer))"
   ]
  },
  {
   "cell_type": "markdown",
   "metadata": {},
   "source": [
    "### Model 4: Encoder-Decoder (OPTIONAL)\n",
    "Time to look at encoder-decoder models.  This model is made up of an encoder and decoder. The encoder creates a matrix representation of the sentence.  The decoder takes this matrix as input and predicts the translation as output.\n",
    "\n",
    "Create an encoder-decoder model in the cell below."
   ]
  },
  {
   "cell_type": "code",
   "execution_count": 16,
   "metadata": {},
   "outputs": [
    {
     "name": "stdout",
     "output_type": "stream",
     "text": [
      "Train on 110288 samples, validate on 27573 samples\n",
      "Epoch 1/10\n",
      "110288/110288 [==============================] - 18s 165us/step - loss: 3.0132 - acc: 0.4389 - val_loss: 2.4622 - val_acc: 0.4736\n",
      "Epoch 2/10\n",
      "110288/110288 [==============================] - 17s 156us/step - loss: 2.2544 - acc: 0.4990 - val_loss: 2.0470 - val_acc: 0.5182\n",
      "Epoch 3/10\n",
      "110288/110288 [==============================] - 17s 156us/step - loss: 1.9114 - acc: 0.5385 - val_loss: 1.7955 - val_acc: 0.5529\n",
      "Epoch 4/10\n",
      "110288/110288 [==============================] - 17s 156us/step - loss: 1.7276 - acc: 0.5615 - val_loss: 1.6570 - val_acc: 0.5705\n",
      "Epoch 5/10\n",
      "110288/110288 [==============================] - 17s 156us/step - loss: 1.6114 - acc: 0.5752 - val_loss: 1.5575 - val_acc: 0.5844\n",
      "Epoch 6/10\n",
      "110288/110288 [==============================] - 17s 156us/step - loss: 1.5198 - acc: 0.5910 - val_loss: 1.4917 - val_acc: 0.5940\n",
      "Epoch 7/10\n",
      "110288/110288 [==============================] - 17s 157us/step - loss: 1.4538 - acc: 0.6024 - val_loss: 1.4269 - val_acc: 0.6085\n",
      "Epoch 8/10\n",
      "110288/110288 [==============================] - 17s 156us/step - loss: 1.3953 - acc: 0.6149 - val_loss: 1.3625 - val_acc: 0.6244\n",
      "Epoch 9/10\n",
      "110288/110288 [==============================] - 17s 156us/step - loss: 1.3498 - acc: 0.6251 - val_loss: 1.3260 - val_acc: 0.6284\n",
      "Epoch 10/10\n",
      "110288/110288 [==============================] - 17s 156us/step - loss: 1.3085 - acc: 0.6333 - val_loss: 1.2929 - val_acc: 0.6353\n",
      "new jersey est parfois froid en mois et il est est en en <PAD> <PAD> <PAD> <PAD> <PAD> <PAD> <PAD> <PAD>\n"
     ]
    }
   ],
   "source": [
    "def encdec_model(input_shape, output_sequence_length, english_vocab_size, french_vocab_size):\n",
    "    \"\"\"\n",
    "    Build and train an encoder-decoder model on x and y\n",
    "    :param input_shape: Tuple of input shape\n",
    "    :param output_sequence_length: Length of output sequence\n",
    "    :param english_vocab_size: Number of unique English words in the dataset\n",
    "    :param french_vocab_size: Number of unique French words in the dataset\n",
    "    :return: Keras model built, but not trained\n",
    "    \"\"\"\n",
    "    # step 1. Define numerical properties:\n",
    "    learning_rate = 1e-3\n",
    "    embedding_dim = 256\n",
    "    gru_output = english_vocab_size\n",
    "    \n",
    "    # step 2. Create layer by layer model:\n",
    "    model = Sequential()\n",
    "    model.add(GRU(units = gru_output, dropout=0.0,input_shape=input_shape[1:]))\n",
    "    model.add(RepeatVector(output_sequence_length))\n",
    "    model.add(GRU(units = gru_output, dropout=0.0, return_sequences=True,return_state=False))\n",
    "    model.add(Dense(french_vocab_size, activation='softmax'))\n",
    "    \n",
    "    # step 3. Comile\n",
    "    model.compile(loss=sparse_categorical_crossentropy,\n",
    "                  optimizer=Adam(learning_rate),\n",
    "                  metrics=['accuracy'])\n",
    "    return model\n",
    "tests.test_encdec_model(encdec_model)\n",
    "\n",
    "# Reshaping the input to work with an embedded RNN\n",
    "tmp_x = pad(preproc_english_sentences, max_french_sequence_length)\n",
    "tmp_x = tmp_x.reshape((-1, preproc_french_sentences.shape[-2], 1))\n",
    "\n",
    "# Train the neural network\n",
    "ae_model = encdec_model(\n",
    "    tmp_x.shape,\n",
    "    max_french_sequence_length,\n",
    "    english_vocab_size+1,\n",
    "    french_vocab_size+1)\n",
    "ae_model.fit(tmp_x, preproc_french_sentences, batch_size=1024, epochs=10, validation_split=0.2)\n",
    "\n",
    "# Print prediction(s)\n",
    "print(logits_to_text(ae_model.predict(tmp_x[:1])[0], french_tokenizer))"
   ]
  },
  {
   "cell_type": "markdown",
   "metadata": {},
   "source": [
    "### Model 5: Custom (IMPLEMENTATION)\n",
    "Use everything you learned from the previous models to create a model that incorporates embedding and a bidirectional rnn into one model."
   ]
  },
  {
   "cell_type": "code",
   "execution_count": 19,
   "metadata": {},
   "outputs": [
    {
     "name": "stdout",
     "output_type": "stream",
     "text": [
      "Final Model Loaded\n"
     ]
    }
   ],
   "source": [
    "def model_final(input_shape, output_sequence_length, english_vocab_size, french_vocab_size):\n",
    "    \"\"\"\n",
    "    Build and train a model that incorporates embedding, encoder-decoder, and bidirectional RNN on x and y\n",
    "    :param input_shape: Tuple of input shape\n",
    "    :param output_sequence_length: Length of output sequence\n",
    "    :param english_vocab_size: Number of unique English words in the dataset\n",
    "    :param french_vocab_size: Number of unique French words in the dataset\n",
    "    :return: Keras model built, but not trained\n",
    "    \"\"\"\n",
    "    # step 1. Define numerical properties:\n",
    "    learning_rate = 1e-3\n",
    "    embedding_dim = 256\n",
    "    gru_output = english_vocab_size\n",
    "    \n",
    "    # step 2. Create layer by layer model:\n",
    "    model = Sequential()\n",
    "    model.add(Embedding(input_dim = english_vocab_size, output_dim = embedding_dim, input_length=input_shape[1:][0]))\n",
    "    model.add(Bidirectional(GRU(units = gru_output, dropout=0.0)))\n",
    "    model.add(RepeatVector(output_sequence_length))\n",
    "    model.add(Bidirectional(GRU(units = gru_output, dropout=0.0,return_sequences=True,return_state=False)))\n",
    "    model.add(Dense(french_vocab_size, activation='softmax'))\n",
    "    \n",
    "    # step 3. Compile\n",
    "    model.compile(loss=sparse_categorical_crossentropy,\n",
    "                  optimizer=Adam(learning_rate),\n",
    "                  metrics=['accuracy'])\n",
    "    \n",
    "    return model\n",
    "tests.test_model_final(model_final)\n",
    "\n",
    "\n",
    "print('Final Model Loaded')"
   ]
  },
  {
   "cell_type": "markdown",
   "metadata": {},
   "source": [
    "## Prediction (IMPLEMENTATION)"
   ]
  },
  {
   "cell_type": "code",
   "execution_count": 20,
   "metadata": {},
   "outputs": [
    {
     "name": "stdout",
     "output_type": "stream",
     "text": [
      "Train on 110288 samples, validate on 27573 samples\n",
      "Epoch 1/30\n",
      "110288/110288 [==============================] - 37s 336us/step - loss: 2.6526 - acc: 0.4628 - val_loss: 1.9008 - val_acc: 0.5353\n",
      "Epoch 2/30\n",
      "110288/110288 [==============================] - 36s 326us/step - loss: 1.6494 - acc: 0.5788 - val_loss: 1.4319 - val_acc: 0.6225\n",
      "Epoch 3/30\n",
      "110288/110288 [==============================] - 36s 326us/step - loss: 1.3103 - acc: 0.6474 - val_loss: 1.2016 - val_acc: 0.6754\n",
      "Epoch 4/30\n",
      "110288/110288 [==============================] - 36s 326us/step - loss: 1.1121 - acc: 0.6923 - val_loss: 1.0252 - val_acc: 0.7116\n",
      "Epoch 5/30\n",
      "110288/110288 [==============================] - 36s 326us/step - loss: 0.9685 - acc: 0.7234 - val_loss: 0.9129 - val_acc: 0.7372\n",
      "Epoch 6/30\n",
      "110288/110288 [==============================] - 36s 326us/step - loss: 0.8723 - acc: 0.7471 - val_loss: 0.8406 - val_acc: 0.7566\n",
      "Epoch 7/30\n",
      "110288/110288 [==============================] - 36s 325us/step - loss: 0.7859 - acc: 0.7698 - val_loss: 0.7348 - val_acc: 0.7833\n",
      "Epoch 8/30\n",
      "110288/110288 [==============================] - 36s 325us/step - loss: 0.6978 - acc: 0.7943 - val_loss: 0.6638 - val_acc: 0.8048\n",
      "Epoch 9/30\n",
      "110288/110288 [==============================] - 36s 325us/step - loss: 0.6213 - acc: 0.8175 - val_loss: 0.5902 - val_acc: 0.8277\n",
      "Epoch 10/30\n",
      "110288/110288 [==============================] - 36s 325us/step - loss: 0.5552 - acc: 0.8389 - val_loss: 0.5408 - val_acc: 0.8419\n",
      "Epoch 11/30\n",
      "110288/110288 [==============================] - 36s 326us/step - loss: 0.5001 - acc: 0.8564 - val_loss: 0.4887 - val_acc: 0.8587\n",
      "Epoch 12/30\n",
      "110288/110288 [==============================] - 36s 325us/step - loss: 0.4407 - acc: 0.8750 - val_loss: 0.4205 - val_acc: 0.8801\n",
      "Epoch 13/30\n",
      "110288/110288 [==============================] - 36s 325us/step - loss: 0.3920 - acc: 0.8889 - val_loss: 0.3631 - val_acc: 0.8986\n",
      "Epoch 14/30\n",
      "110288/110288 [==============================] - 36s 326us/step - loss: 0.3423 - acc: 0.9031 - val_loss: 0.3199 - val_acc: 0.9107\n",
      "Epoch 15/30\n",
      "110288/110288 [==============================] - 36s 325us/step - loss: 0.2945 - acc: 0.9184 - val_loss: 0.2909 - val_acc: 0.9197\n",
      "Epoch 16/30\n",
      "110288/110288 [==============================] - 36s 325us/step - loss: 0.2533 - acc: 0.9319 - val_loss: 0.2447 - val_acc: 0.9341\n",
      "Epoch 17/30\n",
      "110288/110288 [==============================] - 36s 324us/step - loss: 0.2235 - acc: 0.9402 - val_loss: 0.2162 - val_acc: 0.9420\n",
      "Epoch 18/30\n",
      "110288/110288 [==============================] - 36s 325us/step - loss: 0.1990 - acc: 0.9464 - val_loss: 0.1982 - val_acc: 0.9462\n",
      "Epoch 19/30\n",
      "110288/110288 [==============================] - 36s 325us/step - loss: 0.1773 - acc: 0.9520 - val_loss: 0.1741 - val_acc: 0.9527\n",
      "Epoch 20/30\n",
      "110288/110288 [==============================] - 36s 325us/step - loss: 0.1588 - acc: 0.9567 - val_loss: 0.1602 - val_acc: 0.9564\n",
      "Epoch 21/30\n",
      "110288/110288 [==============================] - 36s 325us/step - loss: 0.1436 - acc: 0.9608 - val_loss: 0.1517 - val_acc: 0.9591\n",
      "Epoch 22/30\n",
      "110288/110288 [==============================] - 36s 325us/step - loss: 0.1315 - acc: 0.9639 - val_loss: 0.1399 - val_acc: 0.9608\n",
      "Epoch 23/30\n",
      "110288/110288 [==============================] - 36s 325us/step - loss: 0.1218 - acc: 0.9663 - val_loss: 0.1284 - val_acc: 0.9644\n",
      "Epoch 24/30\n",
      "110288/110288 [==============================] - 36s 325us/step - loss: 0.1152 - acc: 0.9678 - val_loss: 0.1263 - val_acc: 0.9644\n",
      "Epoch 25/30\n",
      "110288/110288 [==============================] - 36s 324us/step - loss: 0.1084 - acc: 0.9697 - val_loss: 0.1328 - val_acc: 0.9630\n",
      "Epoch 26/30\n",
      "110288/110288 [==============================] - 36s 325us/step - loss: 0.1007 - acc: 0.9716 - val_loss: 0.1363 - val_acc: 0.9612\n",
      "Epoch 27/30\n",
      "110288/110288 [==============================] - 36s 324us/step - loss: 0.0960 - acc: 0.9727 - val_loss: 0.1117 - val_acc: 0.9692\n",
      "Epoch 28/30\n",
      "110288/110288 [==============================] - 36s 325us/step - loss: 0.0830 - acc: 0.9765 - val_loss: 0.0991 - val_acc: 0.9720\n",
      "Epoch 29/30\n",
      "110288/110288 [==============================] - 36s 325us/step - loss: 0.0771 - acc: 0.9783 - val_loss: 0.0983 - val_acc: 0.9719\n",
      "Epoch 30/30\n",
      "110288/110288 [==============================] - 36s 325us/step - loss: 0.0766 - acc: 0.9784 - val_loss: 0.0980 - val_acc: 0.9722\n",
      "Sample 1:\n",
      "il a vu un vieux camion jaune <PAD> <PAD> <PAD> <PAD> <PAD> <PAD> <PAD> <PAD> <PAD> <PAD> <PAD> <PAD> <PAD> <PAD>\n",
      "Il a vu un vieux camion jaune\n",
      "Sample 2:\n",
      "new jersey est parfois calme pendant l' automne et il est neigeux en avril <PAD> <PAD> <PAD> <PAD> <PAD> <PAD> <PAD>\n",
      "new jersey est parfois calme pendant l' automne et il est neigeux en avril <PAD> <PAD> <PAD> <PAD> <PAD> <PAD> <PAD>\n"
     ]
    }
   ],
   "source": [
    "def final_predictions(x, y, x_tk, y_tk):\n",
    "    \"\"\"\n",
    "    Gets predictions using the final model\n",
    "    :param x: Preprocessed English data\n",
    "    :param y: Preprocessed French data\n",
    "    :param x_tk: English tokenizer\n",
    "    :param y_tk: French tokenizer\n",
    "    \"\"\"\n",
    "    # step 1. Instantiate model using the data inputs and tokenizer data:\n",
    "    model = model_final(input_shape = x.shape, output_sequence_length = y.shape[1], \\\n",
    "                        english_vocab_size = len(x_tk.word_index)+1, french_vocab_size = len(y_tk.word_index)+1)\n",
    "\n",
    "    # step 2. Fit the model - using a larger number of epochs\n",
    "    model.fit(x,y, batch_size=1024, epochs=30, validation_split=0.2)\n",
    "    ## DON'T EDIT ANYTHING BELOW THIS LINE\n",
    "    y_id_to_word = {value: key for key, value in y_tk.word_index.items()}\n",
    "    y_id_to_word[0] = '<PAD>'\n",
    "\n",
    "    sentence = 'he saw a old yellow truck'\n",
    "    sentence = [x_tk.word_index[word] for word in sentence.split()]\n",
    "    sentence = pad_sequences([sentence], maxlen=x.shape[-1], padding='post')\n",
    "    sentences = np.array([sentence[0], x[0]])\n",
    "    predictions = model.predict(sentences, len(sentences))\n",
    "\n",
    "    print('Sample 1:')\n",
    "    print(' '.join([y_id_to_word[np.argmax(x)] for x in predictions[0]]))\n",
    "    print('Il a vu un vieux camion jaune')\n",
    "    print('Sample 2:')\n",
    "    print(' '.join([y_id_to_word[np.argmax(x)] for x in predictions[1]]))\n",
    "    print(' '.join([y_id_to_word[np.max(x)] for x in y[0]]))\n",
    "\n",
    "\n",
    "final_predictions(preproc_english_sentences, preproc_french_sentences, english_tokenizer, french_tokenizer)"
   ]
  },
  {
   "cell_type": "markdown",
   "metadata": {},
   "source": [
    "## Submission\n",
    "When you're ready to submit, complete the following steps:\n",
    "1. Review the [rubric](https://review.udacity.com/#!/rubrics/1004/view) to ensure your submission meets all requirements to pass\n",
    "2. Generate an HTML version of this notebook\n",
    "\n",
    "  - Run the next cell to attempt automatic generation (this is the recommended method in Workspaces)\n",
    "  - Navigate to **FILE -> Download as -> HTML (.html)**\n",
    "  - Manually generate a copy using `nbconvert` from your shell terminal\n",
    "```\n",
    "$ pip install nbconvert\n",
    "$ python -m nbconvert machine_translation.ipynb\n",
    "```\n",
    "  \n",
    "3. Submit the project\n",
    "\n",
    "  - If you are in a Workspace, simply click the \"Submit Project\" button (bottom towards the right)\n",
    "  \n",
    "  - Otherwise, add the following files into a zip archive and submit them \n",
    "  - `helper.py`\n",
    "  - `machine_translation.ipynb`\n",
    "  - `machine_translation.html`\n",
    "    - You can export the notebook by navigating to **File -> Download as -> HTML (.html)**."
   ]
  },
  {
   "cell_type": "markdown",
   "metadata": {},
   "source": [
    "### Generate the html\n",
    "\n",
    "**Save your notebook before running the next cell to generate the HTML output.** Then submit your project."
   ]
  },
  {
   "cell_type": "code",
   "execution_count": 21,
   "metadata": {},
   "outputs": [
    {
     "data": {
      "text/plain": [
       "['[NbConvertApp] Converting notebook machine_translation.ipynb to html',\n",
       " '[NbConvertApp] Writing 370865 bytes to machine_translation.html',\n",
       " '[NbConvertApp] Converting notebook machine_translation-zh.ipynb to html',\n",
       " '[NbConvertApp] Writing 328614 bytes to machine_translation-zh.html']"
      ]
     },
     "execution_count": 21,
     "metadata": {},
     "output_type": "execute_result"
    }
   ],
   "source": [
    "# Save before you run this cell!\n",
    "!!jupyter nbconvert *.ipynb"
   ]
  },
  {
   "cell_type": "markdown",
   "metadata": {},
   "source": [
    "## Optional Enhancements\n",
    "\n",
    "This project focuses on learning various network architectures for machine translation, but we don't evaluate the models according to best practices by splitting the data into separate test & training sets -- so the model accuracy is overstated. Use the [`sklearn.model_selection.train_test_split()`](http://scikit-learn.org/stable/modules/generated/sklearn.model_selection.train_test_split.html) function to create separate training & test datasets, then retrain each of the models using only the training set and evaluate the prediction accuracy using the hold out test set. Does the \"best\" model change?"
   ]
  }
 ],
 "metadata": {
  "kernelspec": {
   "display_name": "Python 3",
   "language": "python",
   "name": "python3"
  },
  "language_info": {
   "codemirror_mode": {
    "name": "ipython",
    "version": 3
   },
   "file_extension": ".py",
   "mimetype": "text/x-python",
   "name": "python",
   "nbconvert_exporter": "python",
   "pygments_lexer": "ipython3",
   "version": "3.6.3"
  }
 },
 "nbformat": 4,
 "nbformat_minor": 1
}
